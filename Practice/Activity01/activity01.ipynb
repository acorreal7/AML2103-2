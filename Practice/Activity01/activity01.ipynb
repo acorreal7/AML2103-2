{
 "cells": [
  {
   "cell_type": "markdown",
   "metadata": {},
   "source": [
    "## Activity 01: Use NumPy to compute the Mean, Median, and Variance"
   ]
  },
  {
   "cell_type": "markdown",
   "metadata": {},
   "source": [
    "In this activity, you will consolidate the skills you've acquired in the last exercise and use NumPy to do some very basic mathematical calculations on our `normal_distribution` dataset.   \n",
    "NumPy has a consistent API, so it should be rather easy to transfer your knowledge of the mean method to median and variance. "
   ]
  },
  {
   "cell_type": "markdown",
   "metadata": {},
   "source": [
    "#### Loading the dataset"
   ]
  },
  {
   "cell_type": "code",
   "execution_count": 1,
   "metadata": {},
   "outputs": [],
   "source": [
    "# importing the necessary dependencies\n",
    "import numpy as np"
   ]
  },
  {
   "cell_type": "code",
   "execution_count": 2,
   "metadata": {},
   "outputs": [],
   "source": [
    "# loading the Dataset\n",
    "dataset = np.genfromtxt('./data/normal_distribution.csv', delimiter=',')"
   ]
  },
  {
   "cell_type": "code",
   "execution_count": 16,
   "metadata": {},
   "outputs": [
    {
     "data": {
      "text/html": [
       "<div>\n",
       "<style scoped>\n",
       "    .dataframe tbody tr th:only-of-type {\n",
       "        vertical-align: middle;\n",
       "    }\n",
       "\n",
       "    .dataframe tbody tr th {\n",
       "        vertical-align: top;\n",
       "    }\n",
       "\n",
       "    .dataframe thead th {\n",
       "        text-align: right;\n",
       "    }\n",
       "</style>\n",
       "<table border=\"1\" class=\"dataframe\">\n",
       "  <thead>\n",
       "    <tr style=\"text-align: right;\">\n",
       "      <th></th>\n",
       "      <th>0</th>\n",
       "      <th>1</th>\n",
       "      <th>2</th>\n",
       "      <th>3</th>\n",
       "      <th>4</th>\n",
       "      <th>5</th>\n",
       "      <th>6</th>\n",
       "      <th>7</th>\n",
       "    </tr>\n",
       "  </thead>\n",
       "  <tbody>\n",
       "    <tr>\n",
       "      <th>0</th>\n",
       "      <td>99.149315</td>\n",
       "      <td>104.038527</td>\n",
       "      <td>107.435347</td>\n",
       "      <td>97.852307</td>\n",
       "      <td>98.749869</td>\n",
       "      <td>98.808334</td>\n",
       "      <td>96.819649</td>\n",
       "      <td>98.567832</td>\n",
       "    </tr>\n",
       "    <tr>\n",
       "      <th>1</th>\n",
       "      <td>92.026288</td>\n",
       "      <td>97.104393</td>\n",
       "      <td>99.320669</td>\n",
       "      <td>97.245848</td>\n",
       "      <td>92.926751</td>\n",
       "      <td>92.656578</td>\n",
       "      <td>105.719785</td>\n",
       "      <td>101.231629</td>\n",
       "    </tr>\n",
       "    <tr>\n",
       "      <th>2</th>\n",
       "      <td>95.662537</td>\n",
       "      <td>95.177501</td>\n",
       "      <td>90.933181</td>\n",
       "      <td>110.188895</td>\n",
       "      <td>98.800844</td>\n",
       "      <td>105.952977</td>\n",
       "      <td>98.374814</td>\n",
       "      <td>106.546543</td>\n",
       "    </tr>\n",
       "    <tr>\n",
       "      <th>3</th>\n",
       "      <td>91.372946</td>\n",
       "      <td>100.967814</td>\n",
       "      <td>100.401183</td>\n",
       "      <td>113.420905</td>\n",
       "      <td>105.485088</td>\n",
       "      <td>91.660495</td>\n",
       "      <td>106.147284</td>\n",
       "      <td>95.087158</td>\n",
       "    </tr>\n",
       "    <tr>\n",
       "      <th>4</th>\n",
       "      <td>101.208625</td>\n",
       "      <td>103.573031</td>\n",
       "      <td>100.286909</td>\n",
       "      <td>105.852694</td>\n",
       "      <td>93.371263</td>\n",
       "      <td>108.579804</td>\n",
       "      <td>100.794790</td>\n",
       "      <td>94.200197</td>\n",
       "    </tr>\n",
       "    <tr>\n",
       "      <th>5</th>\n",
       "      <td>102.803871</td>\n",
       "      <td>98.296876</td>\n",
       "      <td>93.243764</td>\n",
       "      <td>97.241300</td>\n",
       "      <td>89.034527</td>\n",
       "      <td>96.283275</td>\n",
       "      <td>104.603448</td>\n",
       "      <td>101.134424</td>\n",
       "    </tr>\n",
       "    <tr>\n",
       "      <th>6</th>\n",
       "      <td>106.717516</td>\n",
       "      <td>102.975856</td>\n",
       "      <td>98.457233</td>\n",
       "      <td>100.724189</td>\n",
       "      <td>106.397985</td>\n",
       "      <td>95.464934</td>\n",
       "      <td>94.353732</td>\n",
       "      <td>106.832738</td>\n",
       "    </tr>\n",
       "    <tr>\n",
       "      <th>7</th>\n",
       "      <td>96.025483</td>\n",
       "      <td>102.823609</td>\n",
       "      <td>106.475518</td>\n",
       "      <td>101.347459</td>\n",
       "      <td>102.456518</td>\n",
       "      <td>98.747675</td>\n",
       "      <td>97.575443</td>\n",
       "      <td>92.574876</td>\n",
       "    </tr>\n",
       "    <tr>\n",
       "      <th>8</th>\n",
       "      <td>105.303504</td>\n",
       "      <td>92.877308</td>\n",
       "      <td>103.192583</td>\n",
       "      <td>104.405183</td>\n",
       "      <td>101.293268</td>\n",
       "      <td>100.854471</td>\n",
       "      <td>101.222604</td>\n",
       "      <td>106.038688</td>\n",
       "    </tr>\n",
       "    <tr>\n",
       "      <th>9</th>\n",
       "      <td>110.444843</td>\n",
       "      <td>93.871555</td>\n",
       "      <td>101.536365</td>\n",
       "      <td>97.653935</td>\n",
       "      <td>92.750486</td>\n",
       "      <td>101.720746</td>\n",
       "      <td>96.968512</td>\n",
       "      <td>103.291471</td>\n",
       "    </tr>\n",
       "    <tr>\n",
       "      <th>10</th>\n",
       "      <td>101.351418</td>\n",
       "      <td>100.373722</td>\n",
       "      <td>106.647108</td>\n",
       "      <td>100.617428</td>\n",
       "      <td>105.032054</td>\n",
       "      <td>99.360000</td>\n",
       "      <td>98.870075</td>\n",
       "      <td>95.852842</td>\n",
       "    </tr>\n",
       "    <tr>\n",
       "      <th>11</th>\n",
       "      <td>97.213157</td>\n",
       "      <td>107.028742</td>\n",
       "      <td>102.176421</td>\n",
       "      <td>96.746303</td>\n",
       "      <td>95.937992</td>\n",
       "      <td>102.623847</td>\n",
       "      <td>105.074753</td>\n",
       "      <td>97.595722</td>\n",
       "    </tr>\n",
       "    <tr>\n",
       "      <th>12</th>\n",
       "      <td>95.659820</td>\n",
       "      <td>107.224824</td>\n",
       "      <td>107.191199</td>\n",
       "      <td>102.930395</td>\n",
       "      <td>85.988396</td>\n",
       "      <td>95.191843</td>\n",
       "      <td>91.320933</td>\n",
       "      <td>102.353140</td>\n",
       "    </tr>\n",
       "    <tr>\n",
       "      <th>13</th>\n",
       "      <td>100.393035</td>\n",
       "      <td>92.010823</td>\n",
       "      <td>97.758876</td>\n",
       "      <td>93.188843</td>\n",
       "      <td>100.449403</td>\n",
       "      <td>108.094234</td>\n",
       "      <td>96.503429</td>\n",
       "      <td>99.586647</td>\n",
       "    </tr>\n",
       "    <tr>\n",
       "      <th>14</th>\n",
       "      <td>103.152160</td>\n",
       "      <td>109.405232</td>\n",
       "      <td>93.839693</td>\n",
       "      <td>99.958279</td>\n",
       "      <td>101.834628</td>\n",
       "      <td>99.699828</td>\n",
       "      <td>103.052896</td>\n",
       "      <td>103.933840</td>\n",
       "    </tr>\n",
       "    <tr>\n",
       "      <th>15</th>\n",
       "      <td>106.114550</td>\n",
       "      <td>88.802211</td>\n",
       "      <td>94.508179</td>\n",
       "      <td>94.593007</td>\n",
       "      <td>101.088305</td>\n",
       "      <td>96.346228</td>\n",
       "      <td>96.892443</td>\n",
       "      <td>98.071227</td>\n",
       "    </tr>\n",
       "    <tr>\n",
       "      <th>16</th>\n",
       "      <td>96.782662</td>\n",
       "      <td>99.842516</td>\n",
       "      <td>104.034780</td>\n",
       "      <td>106.570527</td>\n",
       "      <td>105.136683</td>\n",
       "      <td>105.370119</td>\n",
       "      <td>99.075513</td>\n",
       "      <td>104.158998</td>\n",
       "    </tr>\n",
       "    <tr>\n",
       "      <th>17</th>\n",
       "      <td>101.861862</td>\n",
       "      <td>103.617202</td>\n",
       "      <td>99.578599</td>\n",
       "      <td>99.488954</td>\n",
       "      <td>103.055414</td>\n",
       "      <td>98.659127</td>\n",
       "      <td>98.727741</td>\n",
       "      <td>104.705264</td>\n",
       "    </tr>\n",
       "    <tr>\n",
       "      <th>18</th>\n",
       "      <td>97.495948</td>\n",
       "      <td>96.593855</td>\n",
       "      <td>104.638177</td>\n",
       "      <td>102.551986</td>\n",
       "      <td>105.860785</td>\n",
       "      <td>96.593778</td>\n",
       "      <td>93.046109</td>\n",
       "      <td>99.921600</td>\n",
       "    </tr>\n",
       "    <tr>\n",
       "      <th>19</th>\n",
       "      <td>96.768148</td>\n",
       "      <td>91.677922</td>\n",
       "      <td>101.791328</td>\n",
       "      <td>101.207734</td>\n",
       "      <td>98.292440</td>\n",
       "      <td>101.838458</td>\n",
       "      <td>97.940469</td>\n",
       "      <td>102.206185</td>\n",
       "    </tr>\n",
       "    <tr>\n",
       "      <th>20</th>\n",
       "      <td>106.890050</td>\n",
       "      <td>106.573646</td>\n",
       "      <td>102.266483</td>\n",
       "      <td>107.400646</td>\n",
       "      <td>99.943182</td>\n",
       "      <td>103.404121</td>\n",
       "      <td>106.382767</td>\n",
       "      <td>98.002530</td>\n",
       "    </tr>\n",
       "    <tr>\n",
       "      <th>21</th>\n",
       "      <td>99.808731</td>\n",
       "      <td>101.639731</td>\n",
       "      <td>106.464765</td>\n",
       "      <td>110.439767</td>\n",
       "      <td>100.691562</td>\n",
       "      <td>99.995795</td>\n",
       "      <td>101.321137</td>\n",
       "      <td>94.762536</td>\n",
       "    </tr>\n",
       "    <tr>\n",
       "      <th>22</th>\n",
       "      <td>96.100203</td>\n",
       "      <td>94.574217</td>\n",
       "      <td>100.804093</td>\n",
       "      <td>105.023899</td>\n",
       "      <td>98.613252</td>\n",
       "      <td>95.623593</td>\n",
       "      <td>97.997624</td>\n",
       "      <td>103.838525</td>\n",
       "    </tr>\n",
       "    <tr>\n",
       "      <th>23</th>\n",
       "      <td>94.111769</td>\n",
       "      <td>99.623878</td>\n",
       "      <td>104.517864</td>\n",
       "      <td>97.627878</td>\n",
       "      <td>93.978535</td>\n",
       "      <td>98.751084</td>\n",
       "      <td>106.050425</td>\n",
       "      <td>100.077215</td>\n",
       "    </tr>\n",
       "  </tbody>\n",
       "</table>\n",
       "</div>"
      ],
      "text/plain": [
       "             0           1           2           3           4           5  \\\n",
       "0    99.149315  104.038527  107.435347   97.852307   98.749869   98.808334   \n",
       "1    92.026288   97.104393   99.320669   97.245848   92.926751   92.656578   \n",
       "2    95.662537   95.177501   90.933181  110.188895   98.800844  105.952977   \n",
       "3    91.372946  100.967814  100.401183  113.420905  105.485088   91.660495   \n",
       "4   101.208625  103.573031  100.286909  105.852694   93.371263  108.579804   \n",
       "5   102.803871   98.296876   93.243764   97.241300   89.034527   96.283275   \n",
       "6   106.717516  102.975856   98.457233  100.724189  106.397985   95.464934   \n",
       "7    96.025483  102.823609  106.475518  101.347459  102.456518   98.747675   \n",
       "8   105.303504   92.877308  103.192583  104.405183  101.293268  100.854471   \n",
       "9   110.444843   93.871555  101.536365   97.653935   92.750486  101.720746   \n",
       "10  101.351418  100.373722  106.647108  100.617428  105.032054   99.360000   \n",
       "11   97.213157  107.028742  102.176421   96.746303   95.937992  102.623847   \n",
       "12   95.659820  107.224824  107.191199  102.930395   85.988396   95.191843   \n",
       "13  100.393035   92.010823   97.758876   93.188843  100.449403  108.094234   \n",
       "14  103.152160  109.405232   93.839693   99.958279  101.834628   99.699828   \n",
       "15  106.114550   88.802211   94.508179   94.593007  101.088305   96.346228   \n",
       "16   96.782662   99.842516  104.034780  106.570527  105.136683  105.370119   \n",
       "17  101.861862  103.617202   99.578599   99.488954  103.055414   98.659127   \n",
       "18   97.495948   96.593855  104.638177  102.551986  105.860785   96.593778   \n",
       "19   96.768148   91.677922  101.791328  101.207734   98.292440  101.838458   \n",
       "20  106.890050  106.573646  102.266483  107.400646   99.943182  103.404121   \n",
       "21   99.808731  101.639731  106.464765  110.439767  100.691562   99.995795   \n",
       "22   96.100203   94.574217  100.804093  105.023899   98.613252   95.623593   \n",
       "23   94.111769   99.623878  104.517864   97.627878   93.978535   98.751084   \n",
       "\n",
       "             6           7  \n",
       "0    96.819649   98.567832  \n",
       "1   105.719785  101.231629  \n",
       "2    98.374814  106.546543  \n",
       "3   106.147284   95.087158  \n",
       "4   100.794790   94.200197  \n",
       "5   104.603448  101.134424  \n",
       "6    94.353732  106.832738  \n",
       "7    97.575443   92.574876  \n",
       "8   101.222604  106.038688  \n",
       "9    96.968512  103.291471  \n",
       "10   98.870075   95.852842  \n",
       "11  105.074753   97.595722  \n",
       "12   91.320933  102.353140  \n",
       "13   96.503429   99.586647  \n",
       "14  103.052896  103.933840  \n",
       "15   96.892443   98.071227  \n",
       "16   99.075513  104.158998  \n",
       "17   98.727741  104.705264  \n",
       "18   93.046109   99.921600  \n",
       "19   97.940469  102.206185  \n",
       "20  106.382767   98.002530  \n",
       "21  101.321137   94.762536  \n",
       "22   97.997624  103.838525  \n",
       "23  106.050425  100.077215  "
      ]
     },
     "execution_count": 16,
     "metadata": {},
     "output_type": "execute_result"
    }
   ],
   "source": [
    "import pandas as pd\n",
    "pd.DataFrame(dataset)"
   ]
  },
  {
   "cell_type": "code",
   "execution_count": 3,
   "metadata": {},
   "outputs": [
    {
     "data": {
      "text/plain": [
       "array([[ 99.14931546, 104.03852715, 107.43534677,  97.85230675,\n",
       "         98.74986914,  98.80833412,  96.81964892,  98.56783189],\n",
       "       [ 92.02628776,  97.10439252,  99.32066924,  97.24584816,\n",
       "         92.9267508 ,  92.65657752, 105.7197853 , 101.23162942]])"
      ]
     },
     "execution_count": 3,
     "metadata": {},
     "output_type": "execute_result"
    }
   ],
   "source": [
    "# looking at the first two rows of the dataset\n",
    "dataset[:2]"
   ]
  },
  {
   "cell_type": "markdown",
   "metadata": {},
   "source": [
    "---"
   ]
  },
  {
   "cell_type": "markdown",
   "metadata": {},
   "source": [
    "#### Mean"
   ]
  },
  {
   "cell_type": "code",
   "execution_count": 17,
   "metadata": {},
   "outputs": [
    {
     "data": {
      "text/plain": [
       "100.20466135250001"
      ]
     },
     "execution_count": 17,
     "metadata": {},
     "output_type": "execute_result"
    }
   ],
   "source": [
    "# calculate the mean of the third row\n",
    "dataset[2].mean()"
   ]
  },
  {
   "cell_type": "code",
   "execution_count": 43,
   "metadata": {},
   "outputs": [
    {
     "data": {
      "text/plain": [
       "100.4404927375"
      ]
     },
     "execution_count": 43,
     "metadata": {},
     "output_type": "execute_result"
    }
   ],
   "source": [
    "# calculate the mean of the last column\n",
    "np.mean(dataset[:,-1:])"
   ]
  },
  {
   "cell_type": "code",
   "execution_count": 23,
   "metadata": {},
   "outputs": [
    {
     "data": {
      "text/plain": [
       "97.87197312333333"
      ]
     },
     "execution_count": 23,
     "metadata": {},
     "output_type": "execute_result"
    }
   ],
   "source": [
    "# calculate the mean of the intersection of the first 3 rows and first 3 columns\n",
    "dataset[:3,:3].mean()"
   ]
  },
  {
   "cell_type": "markdown",
   "metadata": {},
   "source": [
    "---"
   ]
  },
  {
   "cell_type": "markdown",
   "metadata": {},
   "source": [
    "#### Median"
   ]
  },
  {
   "cell_type": "code",
   "execution_count": 27,
   "metadata": {},
   "outputs": [
    {
     "data": {
      "text/plain": [
       "99.18748092"
      ]
     },
     "execution_count": 27,
     "metadata": {},
     "output_type": "execute_result"
    }
   ],
   "source": [
    "# calculate the median of the last row\n",
    "np.median(dataset[-1:])"
   ]
  },
  {
   "cell_type": "code",
   "execution_count": 30,
   "metadata": {},
   "outputs": [
    {
     "data": {
      "text/plain": [
       "99.90226289"
      ]
     },
     "execution_count": 30,
     "metadata": {},
     "output_type": "execute_result"
    }
   ],
   "source": [
    "# calculate the median of the last 3 columns\n",
    "np.median(dataset[-3:])"
   ]
  },
  {
   "cell_type": "code",
   "execution_count": 33,
   "metadata": {},
   "outputs": [
    {
     "data": {
      "text/plain": [
       "array([ 98.77910163,  97.17512034,  98.58782879, 100.68449836,\n",
       "       101.00170737,  97.76908825, 101.85002253, 100.04756697,\n",
       "       102.24292555,  99.59514997, 100.4955753 ,  99.8860714 ,\n",
       "        99.00647994,  98.67276177, 102.44376222,  96.61933565,\n",
       "       104.0968893 , 100.72023043,  98.70877396,  99.75008654,\n",
       "       104.89344428, 101.00634942,  98.30543801,  99.18748092])"
      ]
     },
     "execution_count": 33,
     "metadata": {},
     "output_type": "execute_result"
    }
   ],
   "source": [
    "# calculate the median of each row\n",
    "np.median(dataset, axis=1)"
   ]
  },
  {
   "cell_type": "markdown",
   "metadata": {},
   "source": [
    "---"
   ]
  },
  {
   "cell_type": "markdown",
   "metadata": {},
   "source": [
    "#### Variance"
   ]
  },
  {
   "cell_type": "code",
   "execution_count": 37,
   "metadata": {},
   "outputs": [
    {
     "data": {
      "text/plain": [
       "array([23.64757465, 29.78886109, 20.50542011, 26.03204443, 28.38853175,\n",
       "       19.09960817, 17.67291174, 16.17923204])"
      ]
     },
     "execution_count": 37,
     "metadata": {},
     "output_type": "execute_result"
    }
   ],
   "source": [
    "# calculate the variance of each column\n",
    "np.var(dataset, axis=0)"
   ]
  },
  {
   "cell_type": "code",
   "execution_count": 41,
   "metadata": {},
   "outputs": [
    {
     "data": {
      "text/plain": [
       "4.674691991769191"
      ]
     },
     "execution_count": 41,
     "metadata": {},
     "output_type": "execute_result"
    }
   ],
   "source": [
    "# calculate the variance of the intersection of the last 2 rows and first 2 columns\n",
    "dataset[-2:,:2].var()"
   ]
  },
  {
   "cell_type": "markdown",
   "metadata": {},
   "source": [
    "The values of the variance might seem a little bit strange at first.   \n",
    "You can always go back to the topic that gives you a quick statistical overview to recap what you've learned so far.   \n",
    "\n",
    "> **Note:**   \n",
    "Just remember, the variance is not the standard deviation.   \n",
    "\n",
    "Try calculation the standard deviation with NumPy to get a more descriptive value when comparing it to our dataset"
   ]
  },
  {
   "cell_type": "code",
   "execution_count": 42,
   "metadata": {},
   "outputs": [
    {
     "data": {
      "text/plain": [
       "4.838197554269257"
      ]
     },
     "execution_count": 42,
     "metadata": {},
     "output_type": "execute_result"
    }
   ],
   "source": [
    "# calculate the standard deviation for the dataset\n",
    "dataset.std()"
   ]
  }
 ],
 "metadata": {
  "kernelspec": {
   "display_name": "Python 3 (ipykernel)",
   "language": "python",
   "name": "python3"
  },
  "language_info": {
   "codemirror_mode": {
    "name": "ipython",
    "version": 3
   },
   "file_extension": ".py",
   "mimetype": "text/x-python",
   "name": "python",
   "nbconvert_exporter": "python",
   "pygments_lexer": "ipython3",
   "version": "3.11.4"
  }
 },
 "nbformat": 4,
 "nbformat_minor": 4
}
